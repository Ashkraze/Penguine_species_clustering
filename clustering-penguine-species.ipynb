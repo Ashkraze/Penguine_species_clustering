{
 "cells": [
  {
   "cell_type": "code",
   "execution_count": 1,
   "id": "47b20540",
   "metadata": {
    "_cell_guid": "b1076dfc-b9ad-4769-8c92-a6c4dae69d19",
    "_uuid": "8f2839f25d086af736a60e9eeb907d3b93b6e0e5",
    "execution": {
     "iopub.execute_input": "2024-09-25T07:57:14.436210Z",
     "iopub.status.busy": "2024-09-25T07:57:14.435767Z",
     "iopub.status.idle": "2024-09-25T07:57:17.107245Z",
     "shell.execute_reply": "2024-09-25T07:57:17.106166Z"
    },
    "papermill": {
     "duration": 2.688744,
     "end_time": "2024-09-25T07:57:17.109875",
     "exception": false,
     "start_time": "2024-09-25T07:57:14.421131",
     "status": "completed"
    },
    "tags": []
   },
   "outputs": [
    {
     "name": "stdout",
     "output_type": "stream",
     "text": [
      "/kaggle/input/clustering-penguins-species/penguins.csv\n"
     ]
    }
   ],
   "source": [
    "import numpy as np\n",
    "import pandas as pd \n",
    "import seaborn as sns\n",
    "import matplotlib.pyplot as plt\n",
    "\n",
    "import warnings\n",
    "warnings.filterwarnings(\"ignore\")\n",
    "\n",
    "import os\n",
    "for dirname, _, filenames in os.walk('/kaggle/input'):\n",
    "    for filename in filenames:\n",
    "        print(os.path.join(dirname, filename))"
   ]
  },
  {
   "cell_type": "code",
   "execution_count": 2,
   "id": "4828be60",
   "metadata": {
    "execution": {
     "iopub.execute_input": "2024-09-25T07:57:17.138016Z",
     "iopub.status.busy": "2024-09-25T07:57:17.136578Z",
     "iopub.status.idle": "2024-09-25T07:57:17.158676Z",
     "shell.execute_reply": "2024-09-25T07:57:17.157453Z"
    },
    "papermill": {
     "duration": 0.038831,
     "end_time": "2024-09-25T07:57:17.161444",
     "exception": false,
     "start_time": "2024-09-25T07:57:17.122613",
     "status": "completed"
    },
    "tags": []
   },
   "outputs": [],
   "source": [
    "df1 = pd.read_csv(\"/kaggle/input/clustering-penguins-species/penguins.csv\")"
   ]
  },
  {
   "cell_type": "code",
   "execution_count": 3,
   "id": "d266f8e4",
   "metadata": {
    "execution": {
     "iopub.execute_input": "2024-09-25T07:57:17.189235Z",
     "iopub.status.busy": "2024-09-25T07:57:17.188101Z",
     "iopub.status.idle": "2024-09-25T07:57:17.223842Z",
     "shell.execute_reply": "2024-09-25T07:57:17.222506Z"
    },
    "papermill": {
     "duration": 0.052303,
     "end_time": "2024-09-25T07:57:17.226466",
     "exception": false,
     "start_time": "2024-09-25T07:57:17.174163",
     "status": "completed"
    },
    "tags": []
   },
   "outputs": [
    {
     "data": {
      "text/html": [
       "<div>\n",
       "<style scoped>\n",
       "    .dataframe tbody tr th:only-of-type {\n",
       "        vertical-align: middle;\n",
       "    }\n",
       "\n",
       "    .dataframe tbody tr th {\n",
       "        vertical-align: top;\n",
       "    }\n",
       "\n",
       "    .dataframe thead th {\n",
       "        text-align: right;\n",
       "    }\n",
       "</style>\n",
       "<table border=\"1\" class=\"dataframe\">\n",
       "  <thead>\n",
       "    <tr style=\"text-align: right;\">\n",
       "      <th></th>\n",
       "      <th>culmen_length_mm</th>\n",
       "      <th>culmen_depth_mm</th>\n",
       "      <th>flipper_length_mm</th>\n",
       "      <th>body_mass_g</th>\n",
       "      <th>sex</th>\n",
       "    </tr>\n",
       "  </thead>\n",
       "  <tbody>\n",
       "    <tr>\n",
       "      <th>0</th>\n",
       "      <td>39.1</td>\n",
       "      <td>18.7</td>\n",
       "      <td>181.0</td>\n",
       "      <td>3750.0</td>\n",
       "      <td>MALE</td>\n",
       "    </tr>\n",
       "    <tr>\n",
       "      <th>1</th>\n",
       "      <td>39.5</td>\n",
       "      <td>17.4</td>\n",
       "      <td>186.0</td>\n",
       "      <td>3800.0</td>\n",
       "      <td>FEMALE</td>\n",
       "    </tr>\n",
       "    <tr>\n",
       "      <th>2</th>\n",
       "      <td>40.3</td>\n",
       "      <td>18.0</td>\n",
       "      <td>195.0</td>\n",
       "      <td>3250.0</td>\n",
       "      <td>FEMALE</td>\n",
       "    </tr>\n",
       "    <tr>\n",
       "      <th>3</th>\n",
       "      <td>NaN</td>\n",
       "      <td>NaN</td>\n",
       "      <td>NaN</td>\n",
       "      <td>NaN</td>\n",
       "      <td>NaN</td>\n",
       "    </tr>\n",
       "    <tr>\n",
       "      <th>4</th>\n",
       "      <td>36.7</td>\n",
       "      <td>19.3</td>\n",
       "      <td>193.0</td>\n",
       "      <td>3450.0</td>\n",
       "      <td>FEMALE</td>\n",
       "    </tr>\n",
       "    <tr>\n",
       "      <th>...</th>\n",
       "      <td>...</td>\n",
       "      <td>...</td>\n",
       "      <td>...</td>\n",
       "      <td>...</td>\n",
       "      <td>...</td>\n",
       "    </tr>\n",
       "    <tr>\n",
       "      <th>339</th>\n",
       "      <td>NaN</td>\n",
       "      <td>NaN</td>\n",
       "      <td>NaN</td>\n",
       "      <td>NaN</td>\n",
       "      <td>NaN</td>\n",
       "    </tr>\n",
       "    <tr>\n",
       "      <th>340</th>\n",
       "      <td>46.8</td>\n",
       "      <td>14.3</td>\n",
       "      <td>215.0</td>\n",
       "      <td>4850.0</td>\n",
       "      <td>FEMALE</td>\n",
       "    </tr>\n",
       "    <tr>\n",
       "      <th>341</th>\n",
       "      <td>50.4</td>\n",
       "      <td>15.7</td>\n",
       "      <td>222.0</td>\n",
       "      <td>5750.0</td>\n",
       "      <td>MALE</td>\n",
       "    </tr>\n",
       "    <tr>\n",
       "      <th>342</th>\n",
       "      <td>45.2</td>\n",
       "      <td>14.8</td>\n",
       "      <td>212.0</td>\n",
       "      <td>5200.0</td>\n",
       "      <td>FEMALE</td>\n",
       "    </tr>\n",
       "    <tr>\n",
       "      <th>343</th>\n",
       "      <td>49.9</td>\n",
       "      <td>16.1</td>\n",
       "      <td>213.0</td>\n",
       "      <td>5400.0</td>\n",
       "      <td>MALE</td>\n",
       "    </tr>\n",
       "  </tbody>\n",
       "</table>\n",
       "<p>344 rows × 5 columns</p>\n",
       "</div>"
      ],
      "text/plain": [
       "     culmen_length_mm  culmen_depth_mm  flipper_length_mm  body_mass_g     sex\n",
       "0                39.1             18.7              181.0       3750.0    MALE\n",
       "1                39.5             17.4              186.0       3800.0  FEMALE\n",
       "2                40.3             18.0              195.0       3250.0  FEMALE\n",
       "3                 NaN              NaN                NaN          NaN     NaN\n",
       "4                36.7             19.3              193.0       3450.0  FEMALE\n",
       "..                ...              ...                ...          ...     ...\n",
       "339               NaN              NaN                NaN          NaN     NaN\n",
       "340              46.8             14.3              215.0       4850.0  FEMALE\n",
       "341              50.4             15.7              222.0       5750.0    MALE\n",
       "342              45.2             14.8              212.0       5200.0  FEMALE\n",
       "343              49.9             16.1              213.0       5400.0    MALE\n",
       "\n",
       "[344 rows x 5 columns]"
      ]
     },
     "execution_count": 3,
     "metadata": {},
     "output_type": "execute_result"
    }
   ],
   "source": [
    "df1"
   ]
  },
  {
   "cell_type": "markdown",
   "id": "674cb1d1",
   "metadata": {
    "papermill": {
     "duration": 0.012522,
     "end_time": "2024-09-25T07:57:17.251976",
     "exception": false,
     "start_time": "2024-09-25T07:57:17.239454",
     "status": "completed"
    },
    "tags": []
   },
   "source": [
    "# Dataframe Info"
   ]
  },
  {
   "cell_type": "code",
   "execution_count": 4,
   "id": "8105cc71",
   "metadata": {
    "execution": {
     "iopub.execute_input": "2024-09-25T07:57:17.279653Z",
     "iopub.status.busy": "2024-09-25T07:57:17.279150Z",
     "iopub.status.idle": "2024-09-25T07:57:17.287604Z",
     "shell.execute_reply": "2024-09-25T07:57:17.286536Z"
    },
    "papermill": {
     "duration": 0.024942,
     "end_time": "2024-09-25T07:57:17.289956",
     "exception": false,
     "start_time": "2024-09-25T07:57:17.265014",
     "status": "completed"
    },
    "tags": []
   },
   "outputs": [
    {
     "data": {
      "text/plain": [
       "culmen_length_mm     float64\n",
       "culmen_depth_mm      float64\n",
       "flipper_length_mm    float64\n",
       "body_mass_g          float64\n",
       "sex                   object\n",
       "dtype: object"
      ]
     },
     "execution_count": 4,
     "metadata": {},
     "output_type": "execute_result"
    }
   ],
   "source": [
    "df1.dtypes"
   ]
  },
  {
   "cell_type": "code",
   "execution_count": 5,
   "id": "fc6b49c7",
   "metadata": {
    "execution": {
     "iopub.execute_input": "2024-09-25T07:57:17.317968Z",
     "iopub.status.busy": "2024-09-25T07:57:17.317553Z",
     "iopub.status.idle": "2024-09-25T07:57:17.340914Z",
     "shell.execute_reply": "2024-09-25T07:57:17.339839Z"
    },
    "papermill": {
     "duration": 0.04118,
     "end_time": "2024-09-25T07:57:17.344130",
     "exception": false,
     "start_time": "2024-09-25T07:57:17.302950",
     "status": "completed"
    },
    "tags": []
   },
   "outputs": [
    {
     "name": "stdout",
     "output_type": "stream",
     "text": [
      "<class 'pandas.core.frame.DataFrame'>\n",
      "RangeIndex: 344 entries, 0 to 343\n",
      "Data columns (total 5 columns):\n",
      " #   Column             Non-Null Count  Dtype  \n",
      "---  ------             --------------  -----  \n",
      " 0   culmen_length_mm   342 non-null    float64\n",
      " 1   culmen_depth_mm    342 non-null    float64\n",
      " 2   flipper_length_mm  342 non-null    float64\n",
      " 3   body_mass_g        342 non-null    float64\n",
      " 4   sex                335 non-null    object \n",
      "dtypes: float64(4), object(1)\n",
      "memory usage: 13.6+ KB\n"
     ]
    }
   ],
   "source": [
    "df1.info()"
   ]
  },
  {
   "cell_type": "code",
   "execution_count": 6,
   "id": "0044b91c",
   "metadata": {
    "execution": {
     "iopub.execute_input": "2024-09-25T07:57:17.372426Z",
     "iopub.status.busy": "2024-09-25T07:57:17.371519Z",
     "iopub.status.idle": "2024-09-25T07:57:17.396086Z",
     "shell.execute_reply": "2024-09-25T07:57:17.395033Z"
    },
    "papermill": {
     "duration": 0.041377,
     "end_time": "2024-09-25T07:57:17.398649",
     "exception": false,
     "start_time": "2024-09-25T07:57:17.357272",
     "status": "completed"
    },
    "tags": []
   },
   "outputs": [
    {
     "data": {
      "text/html": [
       "<div>\n",
       "<style scoped>\n",
       "    .dataframe tbody tr th:only-of-type {\n",
       "        vertical-align: middle;\n",
       "    }\n",
       "\n",
       "    .dataframe tbody tr th {\n",
       "        vertical-align: top;\n",
       "    }\n",
       "\n",
       "    .dataframe thead th {\n",
       "        text-align: right;\n",
       "    }\n",
       "</style>\n",
       "<table border=\"1\" class=\"dataframe\">\n",
       "  <thead>\n",
       "    <tr style=\"text-align: right;\">\n",
       "      <th></th>\n",
       "      <th>culmen_length_mm</th>\n",
       "      <th>culmen_depth_mm</th>\n",
       "      <th>flipper_length_mm</th>\n",
       "      <th>body_mass_g</th>\n",
       "    </tr>\n",
       "  </thead>\n",
       "  <tbody>\n",
       "    <tr>\n",
       "      <th>count</th>\n",
       "      <td>342.000000</td>\n",
       "      <td>342.000000</td>\n",
       "      <td>342.000000</td>\n",
       "      <td>342.000000</td>\n",
       "    </tr>\n",
       "    <tr>\n",
       "      <th>mean</th>\n",
       "      <td>43.921930</td>\n",
       "      <td>17.151170</td>\n",
       "      <td>214.014620</td>\n",
       "      <td>4201.754386</td>\n",
       "    </tr>\n",
       "    <tr>\n",
       "      <th>std</th>\n",
       "      <td>5.459584</td>\n",
       "      <td>1.974793</td>\n",
       "      <td>260.558057</td>\n",
       "      <td>801.954536</td>\n",
       "    </tr>\n",
       "    <tr>\n",
       "      <th>min</th>\n",
       "      <td>32.100000</td>\n",
       "      <td>13.100000</td>\n",
       "      <td>-132.000000</td>\n",
       "      <td>2700.000000</td>\n",
       "    </tr>\n",
       "    <tr>\n",
       "      <th>25%</th>\n",
       "      <td>39.225000</td>\n",
       "      <td>15.600000</td>\n",
       "      <td>190.000000</td>\n",
       "      <td>3550.000000</td>\n",
       "    </tr>\n",
       "    <tr>\n",
       "      <th>50%</th>\n",
       "      <td>44.450000</td>\n",
       "      <td>17.300000</td>\n",
       "      <td>197.000000</td>\n",
       "      <td>4050.000000</td>\n",
       "    </tr>\n",
       "    <tr>\n",
       "      <th>75%</th>\n",
       "      <td>48.500000</td>\n",
       "      <td>18.700000</td>\n",
       "      <td>213.750000</td>\n",
       "      <td>4750.000000</td>\n",
       "    </tr>\n",
       "    <tr>\n",
       "      <th>max</th>\n",
       "      <td>59.600000</td>\n",
       "      <td>21.500000</td>\n",
       "      <td>5000.000000</td>\n",
       "      <td>6300.000000</td>\n",
       "    </tr>\n",
       "  </tbody>\n",
       "</table>\n",
       "</div>"
      ],
      "text/plain": [
       "       culmen_length_mm  culmen_depth_mm  flipper_length_mm  body_mass_g\n",
       "count        342.000000       342.000000         342.000000   342.000000\n",
       "mean          43.921930        17.151170         214.014620  4201.754386\n",
       "std            5.459584         1.974793         260.558057   801.954536\n",
       "min           32.100000        13.100000        -132.000000  2700.000000\n",
       "25%           39.225000        15.600000         190.000000  3550.000000\n",
       "50%           44.450000        17.300000         197.000000  4050.000000\n",
       "75%           48.500000        18.700000         213.750000  4750.000000\n",
       "max           59.600000        21.500000        5000.000000  6300.000000"
      ]
     },
     "execution_count": 6,
     "metadata": {},
     "output_type": "execute_result"
    }
   ],
   "source": [
    "df1.describe()"
   ]
  },
  {
   "cell_type": "code",
   "execution_count": 7,
   "id": "42deb380",
   "metadata": {
    "execution": {
     "iopub.execute_input": "2024-09-25T07:57:17.428420Z",
     "iopub.status.busy": "2024-09-25T07:57:17.427394Z",
     "iopub.status.idle": "2024-09-25T07:57:17.434845Z",
     "shell.execute_reply": "2024-09-25T07:57:17.433809Z"
    },
    "papermill": {
     "duration": 0.024578,
     "end_time": "2024-09-25T07:57:17.437167",
     "exception": false,
     "start_time": "2024-09-25T07:57:17.412589",
     "status": "completed"
    },
    "tags": []
   },
   "outputs": [
    {
     "data": {
      "text/plain": [
       "Index(['culmen_length_mm', 'culmen_depth_mm', 'flipper_length_mm',\n",
       "       'body_mass_g', 'sex'],\n",
       "      dtype='object')"
      ]
     },
     "execution_count": 7,
     "metadata": {},
     "output_type": "execute_result"
    }
   ],
   "source": [
    "df1.columns"
   ]
  },
  {
   "cell_type": "code",
   "execution_count": 8,
   "id": "9bb7afa4",
   "metadata": {
    "execution": {
     "iopub.execute_input": "2024-09-25T07:57:17.467133Z",
     "iopub.status.busy": "2024-09-25T07:57:17.466727Z",
     "iopub.status.idle": "2024-09-25T07:57:17.472636Z",
     "shell.execute_reply": "2024-09-25T07:57:17.471553Z"
    },
    "papermill": {
     "duration": 0.023185,
     "end_time": "2024-09-25T07:57:17.474950",
     "exception": false,
     "start_time": "2024-09-25T07:57:17.451765",
     "status": "completed"
    },
    "tags": []
   },
   "outputs": [],
   "source": [
    "df1.rename(columns = {'culmen_length_mm' : \"culmen_len\", 'culmen_depth_mm' : \"culmen_depth\", 'flipper_length_mm' : \"flipper_len\",\n",
    "                      'body_mass_g': \"body_mass\"},inplace = True)"
   ]
  },
  {
   "cell_type": "markdown",
   "id": "bd40db5d",
   "metadata": {
    "papermill": {
     "duration": 0.013224,
     "end_time": "2024-09-25T07:57:17.501611",
     "exception": false,
     "start_time": "2024-09-25T07:57:17.488387",
     "status": "completed"
    },
    "tags": []
   },
   "source": [
    "# EDA"
   ]
  },
  {
   "cell_type": "code",
   "execution_count": 9,
   "id": "916c7676",
   "metadata": {
    "execution": {
     "iopub.execute_input": "2024-09-25T07:57:17.530222Z",
     "iopub.status.busy": "2024-09-25T07:57:17.529825Z",
     "iopub.status.idle": "2024-09-25T07:57:17.538521Z",
     "shell.execute_reply": "2024-09-25T07:57:17.537473Z"
    },
    "papermill": {
     "duration": 0.02609,
     "end_time": "2024-09-25T07:57:17.541106",
     "exception": false,
     "start_time": "2024-09-25T07:57:17.515016",
     "status": "completed"
    },
    "tags": []
   },
   "outputs": [
    {
     "data": {
      "text/plain": [
       "culmen_len      2\n",
       "culmen_depth    2\n",
       "flipper_len     2\n",
       "body_mass       2\n",
       "sex             9\n",
       "dtype: int64"
      ]
     },
     "execution_count": 9,
     "metadata": {},
     "output_type": "execute_result"
    }
   ],
   "source": [
    "df1.isnull().sum()"
   ]
  },
  {
   "cell_type": "code",
   "execution_count": 10,
   "id": "b14124de",
   "metadata": {
    "execution": {
     "iopub.execute_input": "2024-09-25T07:57:17.570616Z",
     "iopub.status.busy": "2024-09-25T07:57:17.570179Z",
     "iopub.status.idle": "2024-09-25T07:57:17.587664Z",
     "shell.execute_reply": "2024-09-25T07:57:17.586679Z"
    },
    "papermill": {
     "duration": 0.035002,
     "end_time": "2024-09-25T07:57:17.590093",
     "exception": false,
     "start_time": "2024-09-25T07:57:17.555091",
     "status": "completed"
    },
    "tags": []
   },
   "outputs": [
    {
     "data": {
      "text/html": [
       "<div>\n",
       "<style scoped>\n",
       "    .dataframe tbody tr th:only-of-type {\n",
       "        vertical-align: middle;\n",
       "    }\n",
       "\n",
       "    .dataframe tbody tr th {\n",
       "        vertical-align: top;\n",
       "    }\n",
       "\n",
       "    .dataframe thead th {\n",
       "        text-align: right;\n",
       "    }\n",
       "</style>\n",
       "<table border=\"1\" class=\"dataframe\">\n",
       "  <thead>\n",
       "    <tr style=\"text-align: right;\">\n",
       "      <th></th>\n",
       "      <th>culmen_len</th>\n",
       "      <th>culmen_depth</th>\n",
       "      <th>flipper_len</th>\n",
       "      <th>body_mass</th>\n",
       "      <th>sex</th>\n",
       "    </tr>\n",
       "  </thead>\n",
       "  <tbody>\n",
       "    <tr>\n",
       "      <th>3</th>\n",
       "      <td>NaN</td>\n",
       "      <td>NaN</td>\n",
       "      <td>NaN</td>\n",
       "      <td>NaN</td>\n",
       "      <td>NaN</td>\n",
       "    </tr>\n",
       "    <tr>\n",
       "      <th>8</th>\n",
       "      <td>34.1</td>\n",
       "      <td>18.1</td>\n",
       "      <td>193.0</td>\n",
       "      <td>3475.0</td>\n",
       "      <td>NaN</td>\n",
       "    </tr>\n",
       "    <tr>\n",
       "      <th>10</th>\n",
       "      <td>37.8</td>\n",
       "      <td>17.1</td>\n",
       "      <td>186.0</td>\n",
       "      <td>3300.0</td>\n",
       "      <td>NaN</td>\n",
       "    </tr>\n",
       "    <tr>\n",
       "      <th>11</th>\n",
       "      <td>37.8</td>\n",
       "      <td>17.3</td>\n",
       "      <td>180.0</td>\n",
       "      <td>3700.0</td>\n",
       "      <td>NaN</td>\n",
       "    </tr>\n",
       "    <tr>\n",
       "      <th>47</th>\n",
       "      <td>37.5</td>\n",
       "      <td>18.9</td>\n",
       "      <td>179.0</td>\n",
       "      <td>2975.0</td>\n",
       "      <td>NaN</td>\n",
       "    </tr>\n",
       "    <tr>\n",
       "      <th>246</th>\n",
       "      <td>44.5</td>\n",
       "      <td>14.3</td>\n",
       "      <td>216.0</td>\n",
       "      <td>4100.0</td>\n",
       "      <td>NaN</td>\n",
       "    </tr>\n",
       "    <tr>\n",
       "      <th>286</th>\n",
       "      <td>46.2</td>\n",
       "      <td>14.4</td>\n",
       "      <td>214.0</td>\n",
       "      <td>4650.0</td>\n",
       "      <td>NaN</td>\n",
       "    </tr>\n",
       "    <tr>\n",
       "      <th>324</th>\n",
       "      <td>47.3</td>\n",
       "      <td>13.8</td>\n",
       "      <td>216.0</td>\n",
       "      <td>4725.0</td>\n",
       "      <td>NaN</td>\n",
       "    </tr>\n",
       "    <tr>\n",
       "      <th>339</th>\n",
       "      <td>NaN</td>\n",
       "      <td>NaN</td>\n",
       "      <td>NaN</td>\n",
       "      <td>NaN</td>\n",
       "      <td>NaN</td>\n",
       "    </tr>\n",
       "  </tbody>\n",
       "</table>\n",
       "</div>"
      ],
      "text/plain": [
       "     culmen_len  culmen_depth  flipper_len  body_mass  sex\n",
       "3           NaN           NaN          NaN        NaN  NaN\n",
       "8          34.1          18.1        193.0     3475.0  NaN\n",
       "10         37.8          17.1        186.0     3300.0  NaN\n",
       "11         37.8          17.3        180.0     3700.0  NaN\n",
       "47         37.5          18.9        179.0     2975.0  NaN\n",
       "246        44.5          14.3        216.0     4100.0  NaN\n",
       "286        46.2          14.4        214.0     4650.0  NaN\n",
       "324        47.3          13.8        216.0     4725.0  NaN\n",
       "339         NaN           NaN          NaN        NaN  NaN"
      ]
     },
     "execution_count": 10,
     "metadata": {},
     "output_type": "execute_result"
    }
   ],
   "source": [
    "#index 3 and 339 needs to be deleted as they are completely null\n",
    "df1[df1.isnull().any(axis=1)]"
   ]
  },
  {
   "cell_type": "code",
   "execution_count": 11,
   "id": "11b58146",
   "metadata": {
    "execution": {
     "iopub.execute_input": "2024-09-25T07:57:17.620556Z",
     "iopub.status.busy": "2024-09-25T07:57:17.619704Z",
     "iopub.status.idle": "2024-09-25T07:57:17.626119Z",
     "shell.execute_reply": "2024-09-25T07:57:17.625021Z"
    },
    "papermill": {
     "duration": 0.024528,
     "end_time": "2024-09-25T07:57:17.628564",
     "exception": false,
     "start_time": "2024-09-25T07:57:17.604036",
     "status": "completed"
    },
    "tags": []
   },
   "outputs": [],
   "source": [
    "#dropping index [3,339] and reseting the index\n",
    "\n",
    "df1.drop(index = [3,339],inplace = True)\n",
    "df1.reset_index(inplace = True, drop = True)"
   ]
  },
  {
   "cell_type": "code",
   "execution_count": 12,
   "id": "fb8b4c60",
   "metadata": {
    "execution": {
     "iopub.execute_input": "2024-09-25T07:57:17.658427Z",
     "iopub.status.busy": "2024-09-25T07:57:17.658045Z",
     "iopub.status.idle": "2024-09-25T07:57:17.667014Z",
     "shell.execute_reply": "2024-09-25T07:57:17.665958Z"
    },
    "papermill": {
     "duration": 0.027168,
     "end_time": "2024-09-25T07:57:17.669623",
     "exception": false,
     "start_time": "2024-09-25T07:57:17.642455",
     "status": "completed"
    },
    "tags": []
   },
   "outputs": [
    {
     "data": {
      "text/plain": [
       "sex\n",
       "MALE      169\n",
       "FEMALE    165\n",
       ".           1\n",
       "Name: count, dtype: int64"
      ]
     },
     "execution_count": 12,
     "metadata": {},
     "output_type": "execute_result"
    }
   ],
   "source": [
    "df1[\"sex\"].value_counts()"
   ]
  },
  {
   "cell_type": "code",
   "execution_count": 13,
   "id": "cf50878b",
   "metadata": {
    "execution": {
     "iopub.execute_input": "2024-09-25T07:57:17.700243Z",
     "iopub.status.busy": "2024-09-25T07:57:17.699458Z",
     "iopub.status.idle": "2024-09-25T07:57:17.706917Z",
     "shell.execute_reply": "2024-09-25T07:57:17.705798Z"
    },
    "papermill": {
     "duration": 0.025353,
     "end_time": "2024-09-25T07:57:17.709262",
     "exception": false,
     "start_time": "2024-09-25T07:57:17.683909",
     "status": "completed"
    },
    "tags": []
   },
   "outputs": [],
   "source": [
    "df1.drop(index = df1[df1['sex'] == '.'].index,inplace= True)\n",
    "df1.reset_index(inplace = True, drop = True)"
   ]
  },
  {
   "cell_type": "markdown",
   "id": "58881fb0",
   "metadata": {
    "papermill": {
     "duration": 0.01387,
     "end_time": "2024-09-25T07:57:17.737311",
     "exception": false,
     "start_time": "2024-09-25T07:57:17.723441",
     "status": "completed"
    },
    "tags": []
   },
   "source": [
    "# Univariate and Bi variate Analysis"
   ]
  },
  {
   "cell_type": "code",
   "execution_count": 14,
   "id": "255f8c42",
   "metadata": {
    "execution": {
     "iopub.execute_input": "2024-09-25T07:57:17.767448Z",
     "iopub.status.busy": "2024-09-25T07:57:17.766653Z",
     "iopub.status.idle": "2024-09-25T07:57:17.775547Z",
     "shell.execute_reply": "2024-09-25T07:57:17.774396Z"
    },
    "papermill": {
     "duration": 0.026532,
     "end_time": "2024-09-25T07:57:17.777829",
     "exception": false,
     "start_time": "2024-09-25T07:57:17.751297",
     "status": "completed"
    },
    "tags": []
   },
   "outputs": [
    {
     "data": {
      "text/plain": [
       "sex\n",
       "MALE      169\n",
       "FEMALE    165\n",
       "Name: count, dtype: int64"
      ]
     },
     "execution_count": 14,
     "metadata": {},
     "output_type": "execute_result"
    }
   ],
   "source": [
    "df1[\"sex\"].value_counts()"
   ]
  },
  {
   "cell_type": "code",
   "execution_count": 15,
   "id": "db1c61ce",
   "metadata": {
    "execution": {
     "iopub.execute_input": "2024-09-25T07:57:17.808203Z",
     "iopub.status.busy": "2024-09-25T07:57:17.807194Z",
     "iopub.status.idle": "2024-09-25T07:57:18.076183Z",
     "shell.execute_reply": "2024-09-25T07:57:18.075091Z"
    },
    "papermill": {
     "duration": 0.286908,
     "end_time": "2024-09-25T07:57:18.078801",
     "exception": false,
     "start_time": "2024-09-25T07:57:17.791893",
     "status": "completed"
    },
    "tags": []
   },
   "outputs": [
    {
     "data": {
      "text/plain": [
       "<Axes: xlabel='sex', ylabel='count'>"
      ]
     },
     "execution_count": 15,
     "metadata": {},
     "output_type": "execute_result"
    },
    {
     "data": {
      "image/png": "[encoded data removed]",
      "text/plain": [
       "<Figure size 1200x300 with 1 Axes>"
      ]
     },
     "metadata": {},
     "output_type": "display_data"
    }
   ],
   "source": [
    "plt.figure(figsize = (12,3))\n",
    "sns.countplot(df1, x = \"sex\")"
   ]
  },
  {
   "cell_type": "code",
   "execution_count": 16,
   "id": "94874467",
   "metadata": {
    "execution": {
     "iopub.execute_input": "2024-09-25T07:57:18.110120Z",
     "iopub.status.busy": "2024-09-25T07:57:18.109273Z",
     "iopub.status.idle": "2024-09-25T07:57:18.116600Z",
     "shell.execute_reply": "2024-09-25T07:57:18.115424Z"
    },
    "papermill": {
     "duration": 0.025436,
     "end_time": "2024-09-25T07:57:18.118850",
     "exception": false,
     "start_time": "2024-09-25T07:57:18.093414",
     "status": "completed"
    },
    "tags": []
   },
   "outputs": [
    {
     "data": {
      "text/plain": [
       "Index(['culmen_len', 'culmen_depth', 'flipper_len', 'body_mass', 'sex'], dtype='object')"
      ]
     },
     "execution_count": 16,
     "metadata": {},
     "output_type": "execute_result"
    }
   ],
   "source": [
    "df1.columns"
   ]
  },
  {
   "cell_type": "code",
   "execution_count": 17,
   "id": "17b3fc47",
   "metadata": {
    "execution": {
     "iopub.execute_input": "2024-09-25T07:57:18.150262Z",
     "iopub.status.busy": "2024-09-25T07:57:18.149709Z",
     "iopub.status.idle": "2024-09-25T07:57:18.167295Z",
     "shell.execute_reply": "2024-09-25T07:57:18.166302Z"
    },
    "jupyter": {
     "source_hidden": true
    },
    "papermill": {
     "duration": 0.036596,
     "end_time": "2024-09-25T07:57:18.170269",
     "exception": false,
     "start_time": "2024-09-25T07:57:18.133673",
     "status": "completed"
    },
    "tags": []
   },
   "outputs": [
    {
     "name": "stdout",
     "output_type": "stream",
     "text": [
      "                                   Mean and Median of all columns wrt MALE gender\n",
      "Mean of culmen_len of pop :  45.8         Median of pop :  46.8\n",
      "Mean of culmen_depth of pop :  17.9       Median of pop :  18.5\n",
      "Mean of flipper_len of pop :  230.9       Median of pop :  201.0\n",
      "Mean of body_mass of pop :  4543.9        Median of pop :  4300.0\n"
     ]
    }
   ],
   "source": [
    "print(\"                                   Mean and Median of all columns wrt MALE gender\")\n",
    "print(\"Mean of culmen_len of pop : \",round(df1[df1[\"sex\"] == \"MALE\"]['culmen_len'].mean(),1),\"        Median of pop : \",round(df1[df1[\"sex\"] == \"MALE\"]['culmen_len'].median(),1))\n",
    "print(\"Mean of culmen_depth of pop : \",round(df1[df1[\"sex\"] == \"MALE\"]['culmen_depth'].mean(),1),\"      Median of pop : \",round(df1[df1[\"sex\"] == \"MALE\"]['culmen_depth'].median(),1))\n",
    "print(\"Mean of flipper_len of pop : \",round(df1[df1[\"sex\"] == \"MALE\"]['flipper_len'].mean(),1),\"      Median of pop : \",round(df1[df1[\"sex\"] == \"MALE\"]['flipper_len'].median(),1))\n",
    "print(\"Mean of body_mass of pop : \",round(df1[df1[\"sex\"] == \"MALE\"]['body_mass'].mean(),1),\"       Median of pop : \",round(df1[df1[\"sex\"] == \"MALE\"]['body_mass'].median(),1))\n"
   ]
  },
  {
   "cell_type": "code",
   "execution_count": 18,
   "id": "d8831916",
   "metadata": {
    "execution": {
     "iopub.execute_input": "2024-09-25T07:57:18.202088Z",
     "iopub.status.busy": "2024-09-25T07:57:18.201647Z",
     "iopub.status.idle": "2024-09-25T07:57:18.220656Z",
     "shell.execute_reply": "2024-09-25T07:57:18.219153Z"
    },
    "jupyter": {
     "source_hidden": true
    },
    "papermill": {
     "duration": 0.037512,
     "end_time": "2024-09-25T07:57:18.222917",
     "exception": false,
     "start_time": "2024-09-25T07:57:18.185405",
     "status": "completed"
    },
    "tags": []
   },
   "outputs": [
    {
     "name": "stdout",
     "output_type": "stream",
     "text": [
      "                                   Mean and Median of all columns wrt FEMALE gender\n",
      "Mean of culmen_len of pop :  42.1         Median of pop :  42.8\n",
      "Mean of culmen_depth of pop :  16.4       Median of pop :  17.0\n",
      "Mean of flipper_len of pop :  197.4       Median of pop :  193.0\n",
      "Mean of body_mass of pop :  3862.3        Median of pop :  3650.0\n"
     ]
    }
   ],
   "source": [
    "print(\"                                   Mean and Median of all columns wrt FEMALE gender\")\n",
    "print(\"Mean of culmen_len of pop : \",round(df1[df1[\"sex\"] == \"FEMALE\"]['culmen_len'].mean(),1),\"        Median of pop : \",round(df1[df1[\"sex\"] == \"FEMALE\"]['culmen_len'].median(),1))\n",
    "print(\"Mean of culmen_depth of pop : \",round(df1[df1[\"sex\"] == \"FEMALE\"]['culmen_depth'].mean(),1),\"      Median of pop : \",round(df1[df1[\"sex\"] == \"FEMALE\"]['culmen_depth'].median(),1))\n",
    "print(\"Mean of flipper_len of pop : \",round(df1[df1[\"sex\"] == \"FEMALE\"]['flipper_len'].mean(),1),\"      Median of pop : \",round(df1[df1[\"sex\"] == \"FEMALE\"]['flipper_len'].median(),1))\n",
    "print(\"Mean of body_mass of pop : \",round(df1[df1[\"sex\"] == \"FEMALE\"]['body_mass'].mean(),1),\"       Median of pop : \",round(df1[df1[\"sex\"] == \"FEMALE\"]['body_mass'].median(),1))\n"
   ]
  },
  {
   "cell_type": "code",
   "execution_count": 19,
   "id": "776e6c6d",
   "metadata": {
    "execution": {
     "iopub.execute_input": "2024-09-25T07:57:18.255385Z",
     "iopub.status.busy": "2024-09-25T07:57:18.254634Z",
     "iopub.status.idle": "2024-09-25T07:57:21.015589Z",
     "shell.execute_reply": "2024-09-25T07:57:21.014387Z"
    },
    "papermill": {
     "duration": 2.780712,
     "end_time": "2024-09-25T07:57:21.018679",
     "exception": false,
     "start_time": "2024-09-25T07:57:18.237967",
     "status": "completed"
    },
    "tags": []
   },
   "outputs": [
    {
     "data": {
      "image/png": "[encoded data removed]",
      "text/plain": [
       "<Figure size 1500x500 with 4 Axes>"
      ]
     },
     "metadata": {},
     "output_type": "display_data"
    }
   ],
   "source": [
    "plt.figure(figsize = (15,5))\n",
    "df1_num = df1.select_dtypes(exclude = \"object\")\n",
    "\n",
    "for i in range(len(df1_num.columns)):\n",
    "    plt.subplot(2,2,i+1)\n",
    "    sns.histplot(df1,x = df1_num[df1_num.columns[i]],kde =True)\n",
    "    \n",
    "plt.tight_layout()"
   ]
  },
  {
   "cell_type": "code",
   "execution_count": 20,
   "id": "67818735",
   "metadata": {
    "execution": {
     "iopub.execute_input": "2024-09-25T07:57:21.052973Z",
     "iopub.status.busy": "2024-09-25T07:57:21.052577Z",
     "iopub.status.idle": "2024-09-25T07:57:21.673133Z",
     "shell.execute_reply": "2024-09-25T07:57:21.671930Z"
    },
    "papermill": {
     "duration": 0.640603,
     "end_time": "2024-09-25T07:57:21.675756",
     "exception": false,
     "start_time": "2024-09-25T07:57:21.035153",
     "status": "completed"
    },
    "tags": []
   },
   "outputs": [
    {
     "data": {
      "image/png": "[encoded data removed]",
      "text/plain": [
       "<Figure size 1500x500 with 4 Axes>"
      ]
     },
     "metadata": {},
     "output_type": "display_data"
    }
   ],
   "source": [
    "plt.figure(figsize = (15,5))\n",
    "df1_num = df1.select_dtypes(exclude = \"object\")\n",
    "\n",
    "for i in range(len(df1_num.columns)):\n",
    "    plt.subplot(2,2,i+1)\n",
    "    sns.boxplot(df1_num,x = df1_num[df1_num.columns[i]])\n",
    "    \n",
    "plt.tight_layout()"
   ]
  },
  {
   "cell_type": "markdown",
   "id": "53cbb558",
   "metadata": {
    "papermill": {
     "duration": 0.016397,
     "end_time": "2024-09-25T07:57:21.709077",
     "exception": false,
     "start_time": "2024-09-25T07:57:21.692680",
     "status": "completed"
    },
    "tags": []
   },
   "source": [
    "### Inferences\n",
    "#### Columns {culmen_len, culmen_depth, body_mass} needs to be transformed to make it normally distributed\n",
    "#### Outliers from {flipper_len} needs to be removed."
   ]
  },
  {
   "cell_type": "markdown",
   "id": "e09297b6",
   "metadata": {
    "papermill": {
     "duration": 0.016494,
     "end_time": "2024-09-25T07:57:21.742380",
     "exception": false,
     "start_time": "2024-09-25T07:57:21.725886",
     "status": "completed"
    },
    "tags": []
   },
   "source": [
    "# Outliers Treatment"
   ]
  },
  {
   "cell_type": "code",
   "execution_count": 21,
   "id": "d0cfc542",
   "metadata": {
    "execution": {
     "iopub.execute_input": "2024-09-25T07:57:21.778303Z",
     "iopub.status.busy": "2024-09-25T07:57:21.777261Z",
     "iopub.status.idle": "2024-09-25T07:57:21.784182Z",
     "shell.execute_reply": "2024-09-25T07:57:21.783083Z"
    },
    "papermill": {
     "duration": 0.027139,
     "end_time": "2024-09-25T07:57:21.786447",
     "exception": false,
     "start_time": "2024-09-25T07:57:21.759308",
     "status": "completed"
    },
    "tags": []
   },
   "outputs": [],
   "source": [
    "indexes = df1[(df1[\"flipper_len\"] >4000) | (df1[\"flipper_len\"] < 0)].index"
   ]
  },
  {
   "cell_type": "code",
   "execution_count": 22,
   "id": "f8538ab5",
   "metadata": {
    "execution": {
     "iopub.execute_input": "2024-09-25T07:57:21.821975Z",
     "iopub.status.busy": "2024-09-25T07:57:21.821531Z",
     "iopub.status.idle": "2024-09-25T07:57:21.827050Z",
     "shell.execute_reply": "2024-09-25T07:57:21.826009Z"
    },
    "papermill": {
     "duration": 0.026156,
     "end_time": "2024-09-25T07:57:21.829457",
     "exception": false,
     "start_time": "2024-09-25T07:57:21.803301",
     "status": "completed"
    },
    "tags": []
   },
   "outputs": [],
   "source": [
    "#removing outlier from the dataset\n",
    "for i in indexes:\n",
    "    df1.at[i,\"flipper_len\"] = np.nan"
   ]
  },
  {
   "cell_type": "markdown",
   "id": "22df77d4",
   "metadata": {
    "papermill": {
     "duration": 0.016355,
     "end_time": "2024-09-25T07:57:21.862514",
     "exception": false,
     "start_time": "2024-09-25T07:57:21.846159",
     "status": "completed"
    },
    "tags": []
   },
   "source": [
    "# Scaling "
   ]
  },
  {
   "cell_type": "code",
   "execution_count": 23,
   "id": "1ff6c8a2",
   "metadata": {
    "execution": {
     "iopub.execute_input": "2024-09-25T07:57:21.897485Z",
     "iopub.status.busy": "2024-09-25T07:57:21.897074Z",
     "iopub.status.idle": "2024-09-25T07:57:21.903643Z",
     "shell.execute_reply": "2024-09-25T07:57:21.902527Z"
    },
    "papermill": {
     "duration": 0.026846,
     "end_time": "2024-09-25T07:57:21.905972",
     "exception": false,
     "start_time": "2024-09-25T07:57:21.879126",
     "status": "completed"
    },
    "tags": []
   },
   "outputs": [],
   "source": [
    "#df['col_name'] = df['col_name'].apply(lambda x: mapping[x])\n",
    "df1[\"sex\"] = df1[\"sex\"].apply(lambda x: {\"MALE\": 1, \"FEMALE\":0, np.nan:np.nan}[x])"
   ]
  },
  {
   "cell_type": "code",
   "execution_count": 24,
   "id": "c447dd0d",
   "metadata": {
    "execution": {
     "iopub.execute_input": "2024-09-25T07:57:21.941087Z",
     "iopub.status.busy": "2024-09-25T07:57:21.940666Z",
     "iopub.status.idle": "2024-09-25T07:57:21.946946Z",
     "shell.execute_reply": "2024-09-25T07:57:21.945828Z"
    },
    "papermill": {
     "duration": 0.026795,
     "end_time": "2024-09-25T07:57:21.949406",
     "exception": false,
     "start_time": "2024-09-25T07:57:21.922611",
     "status": "completed"
    },
    "tags": []
   },
   "outputs": [],
   "source": [
    "df1_num = df1[[\"culmen_len\",\"culmen_depth\",\"flipper_len\",\"body_mass\"]]"
   ]
  },
  {
   "cell_type": "code",
   "execution_count": 25,
   "id": "ba5a4ccd",
   "metadata": {
    "execution": {
     "iopub.execute_input": "2024-09-25T07:57:21.985121Z",
     "iopub.status.busy": "2024-09-25T07:57:21.984701Z",
     "iopub.status.idle": "2024-09-25T07:57:22.153195Z",
     "shell.execute_reply": "2024-09-25T07:57:22.152215Z"
    },
    "papermill": {
     "duration": 0.189306,
     "end_time": "2024-09-25T07:57:22.155863",
     "exception": false,
     "start_time": "2024-09-25T07:57:21.966557",
     "status": "completed"
    },
    "tags": []
   },
   "outputs": [],
   "source": [
    "from sklearn.preprocessing import StandardScaler as ss\n",
    "\n",
    "df1_scaled = pd.DataFrame(ss().fit_transform(df1_num),columns = df1_num.select_dtypes(exclude = \"object\").columns)"
   ]
  },
  {
   "cell_type": "code",
   "execution_count": 26,
   "id": "ae52aed4",
   "metadata": {
    "execution": {
     "iopub.execute_input": "2024-09-25T07:57:22.191460Z",
     "iopub.status.busy": "2024-09-25T07:57:22.191040Z",
     "iopub.status.idle": "2024-09-25T07:57:22.197371Z",
     "shell.execute_reply": "2024-09-25T07:57:22.196301Z"
    },
    "papermill": {
     "duration": 0.027101,
     "end_time": "2024-09-25T07:57:22.199679",
     "exception": false,
     "start_time": "2024-09-25T07:57:22.172578",
     "status": "completed"
    },
    "tags": []
   },
   "outputs": [],
   "source": [
    "df1_scaled = pd.concat([df1_scaled,df1[\"sex\"]],axis =1)"
   ]
  },
  {
   "cell_type": "markdown",
   "id": "41275b12",
   "metadata": {
    "papermill": {
     "duration": 0.016206,
     "end_time": "2024-09-25T07:57:22.232382",
     "exception": false,
     "start_time": "2024-09-25T07:57:22.216176",
     "status": "completed"
    },
    "tags": []
   },
   "source": [
    "# Missing Value Treatment"
   ]
  },
  {
   "cell_type": "code",
   "execution_count": 27,
   "id": "31733758",
   "metadata": {
    "execution": {
     "iopub.execute_input": "2024-09-25T07:57:22.267285Z",
     "iopub.status.busy": "2024-09-25T07:57:22.266837Z",
     "iopub.status.idle": "2024-09-25T07:57:22.540228Z",
     "shell.execute_reply": "2024-09-25T07:57:22.539051Z"
    },
    "papermill": {
     "duration": 0.294004,
     "end_time": "2024-09-25T07:57:22.542923",
     "exception": false,
     "start_time": "2024-09-25T07:57:22.248919",
     "status": "completed"
    },
    "tags": []
   },
   "outputs": [],
   "source": [
    "from sklearn.impute import KNNImputer as knnimp\n",
    "\n",
    "#imputer = knnimp(n_neighbors = len(scaled_df_num.columns))\n",
    "dfx_imputed = pd.DataFrame(knnimp(n_neighbors = 7).fit_transform(df1_scaled), columns =df1_scaled.columns )"
   ]
  },
  {
   "cell_type": "markdown",
   "id": "22f2c00e",
   "metadata": {
    "papermill": {
     "duration": 0.016123,
     "end_time": "2024-09-25T07:57:22.575598",
     "exception": false,
     "start_time": "2024-09-25T07:57:22.559475",
     "status": "completed"
    },
    "tags": []
   },
   "source": [
    "# PCA : Principal Component Analysis"
   ]
  },
  {
   "cell_type": "code",
   "execution_count": 28,
   "id": "e499b729",
   "metadata": {
    "execution": {
     "iopub.execute_input": "2024-09-25T07:57:22.610939Z",
     "iopub.status.busy": "2024-09-25T07:57:22.609981Z",
     "iopub.status.idle": "2024-09-25T07:57:22.713539Z",
     "shell.execute_reply": "2024-09-25T07:57:22.712535Z"
    },
    "papermill": {
     "duration": 0.124153,
     "end_time": "2024-09-25T07:57:22.716129",
     "exception": false,
     "start_time": "2024-09-25T07:57:22.591976",
     "status": "completed"
    },
    "tags": []
   },
   "outputs": [],
   "source": [
    "from sklearn.decomposition import PCA\n",
    "from sklearn.cluster import KMeans"
   ]
  },
  {
   "cell_type": "code",
   "execution_count": 29,
   "id": "864dc8f1",
   "metadata": {
    "execution": {
     "iopub.execute_input": "2024-09-25T07:57:22.751631Z",
     "iopub.status.busy": "2024-09-25T07:57:22.750820Z",
     "iopub.status.idle": "2024-09-25T07:57:22.773747Z",
     "shell.execute_reply": "2024-09-25T07:57:22.772518Z"
    },
    "papermill": {
     "duration": 0.043239,
     "end_time": "2024-09-25T07:57:22.776200",
     "exception": false,
     "start_time": "2024-09-25T07:57:22.732961",
     "status": "completed"
    },
    "tags": []
   },
   "outputs": [
    {
     "name": "stdout",
     "output_type": "stream",
     "text": [
      "2\n"
     ]
    }
   ],
   "source": [
    "pca = PCA(n_components=None)\n",
    "dfx_pca = pca.fit(dfx_imputed)\n",
    "dfx_pca.explained_variance_ratio_\n",
    "n_components = sum(dfx_pca.explained_variance_ratio_ > 0.1)\n",
    "pca = PCA(n_components=n_components)\n",
    "new_df_pca = pca.fit_transform(dfx_imputed)\n",
    "print(n_components)"
   ]
  },
  {
   "cell_type": "markdown",
   "id": "1586e52b",
   "metadata": {
    "papermill": {
     "duration": 0.016409,
     "end_time": "2024-09-25T07:57:22.809368",
     "exception": false,
     "start_time": "2024-09-25T07:57:22.792959",
     "status": "completed"
    },
    "tags": []
   },
   "source": [
    "# Modelling"
   ]
  },
  {
   "cell_type": "code",
   "execution_count": 30,
   "id": "a2384337",
   "metadata": {
    "execution": {
     "iopub.execute_input": "2024-09-25T07:57:22.845339Z",
     "iopub.status.busy": "2024-09-25T07:57:22.844311Z",
     "iopub.status.idle": "2024-09-25T07:57:23.316010Z",
     "shell.execute_reply": "2024-09-25T07:57:23.314862Z"
    },
    "papermill": {
     "duration": 0.492569,
     "end_time": "2024-09-25T07:57:23.318885",
     "exception": false,
     "start_time": "2024-09-25T07:57:22.826316",
     "status": "completed"
    },
    "tags": []
   },
   "outputs": [
    {
     "data": {
      "image/png": "[encoded data removed]",
      "text/plain": [
       "<Figure size 640x480 with 1 Axes>"
      ]
     },
     "metadata": {},
     "output_type": "display_data"
    }
   ],
   "source": [
    "sse = []\n",
    "for k in range(1, 10):\n",
    "    kmeans = KMeans(n_clusters=k, random_state=42).fit(new_df_pca)\n",
    "    sse.append(kmeans.inertia_)\n",
    "plt.plot(range(1, 10), sse, marker=\"x\")\n",
    "plt.xlabel(\"Number of clusters\")\n",
    "plt.ylabel(\"Inertia\")\n",
    "plt.title(\"Elbow Method\")\n",
    "plt.show()"
   ]
  },
  {
   "cell_type": "markdown",
   "id": "4ddb20c3",
   "metadata": {
    "papermill": {
     "duration": 0.017014,
     "end_time": "2024-09-25T07:57:23.353790",
     "exception": false,
     "start_time": "2024-09-25T07:57:23.336776",
     "status": "completed"
    },
    "tags": []
   },
   "source": [
    "##### Coclusion : Number of clusters should be 4"
   ]
  },
  {
   "cell_type": "code",
   "execution_count": 31,
   "id": "cbdf0692",
   "metadata": {
    "execution": {
     "iopub.execute_input": "2024-09-25T07:57:23.389929Z",
     "iopub.status.busy": "2024-09-25T07:57:23.389464Z",
     "iopub.status.idle": "2024-09-25T07:57:23.396331Z",
     "shell.execute_reply": "2024-09-25T07:57:23.395287Z"
    },
    "papermill": {
     "duration": 0.027787,
     "end_time": "2024-09-25T07:57:23.398859",
     "exception": false,
     "start_time": "2024-09-25T07:57:23.371072",
     "status": "completed"
    },
    "tags": []
   },
   "outputs": [
    {
     "data": {
      "text/plain": [
       "[1246.0948048849514,\n",
       " 448.6787032612357,\n",
       " 264.61824253940415,\n",
       " 169.35756782731326,\n",
       " 118.51654680494818,\n",
       " 98.89575853869499,\n",
       " 83.50145988956513,\n",
       " 74.00393852202977,\n",
       " 66.69871297082459]"
      ]
     },
     "execution_count": 31,
     "metadata": {},
     "output_type": "execute_result"
    }
   ],
   "source": [
    "sse"
   ]
  },
  {
   "cell_type": "code",
   "execution_count": 32,
   "id": "aa27f0c4",
   "metadata": {
    "execution": {
     "iopub.execute_input": "2024-09-25T07:57:23.436084Z",
     "iopub.status.busy": "2024-09-25T07:57:23.435603Z",
     "iopub.status.idle": "2024-09-25T07:57:23.699628Z",
     "shell.execute_reply": "2024-09-25T07:57:23.698549Z"
    },
    "papermill": {
     "duration": 0.285825,
     "end_time": "2024-09-25T07:57:23.701967",
     "exception": false,
     "start_time": "2024-09-25T07:57:23.416142",
     "status": "completed"
    },
    "tags": []
   },
   "outputs": [
    {
     "data": {
      "image/png": "[encoded data removed]",
      "text/plain": [
       "<Figure size 640x480 with 1 Axes>"
      ]
     },
     "metadata": {},
     "output_type": "display_data"
    }
   ],
   "source": [
    "kmeans = KMeans(n_clusters=4, random_state=42).fit(new_df_pca)\n",
    "plt.scatter(new_df_pca[:, 0], new_df_pca[:, 1], c=kmeans.labels_, cmap=\"viridis\")\n",
    "plt.xlabel(\"First Principal Component\")\n",
    "plt.ylabel(\"Second Principal Component\")\n",
    "plt.title(f\"K-means Clustering with 4 clusters\")\n",
    "plt.show()"
   ]
  }
 ],
 "metadata": {
  "kaggle": {
   "accelerator": "none",
   "dataSources": [
    {
     "datasetId": 3937012,
     "sourceId": 6848552,
     "sourceType": "datasetVersion"
    }
   ],
   "dockerImageVersionId": 30761,
   "isGpuEnabled": false,
   "isInternetEnabled": true,
   "language": "python",
   "sourceType": "notebook"
  },
  "kernelspec": {
   "display_name": "Python 3",
   "language": "python",
   "name": "python3"
  },
  "language_info": {
   "codemirror_mode": {
    "name": "ipython",
    "version": 3
   },
   "file_extension": ".py",
   "mimetype": "text/x-python",
   "name": "python",
   "nbconvert_exporter": "python",
   "pygments_lexer": "ipython3",
   "version": "3.10.14"
  },
  "papermill": {
   "default_parameters": {},
   "duration": 13.039217,
   "end_time": "2024-09-25T07:57:24.442049",
   "environment_variables": {},
   "exception": null,
   "input_path": "__notebook__.ipynb",
   "output_path": "__notebook__.ipynb",
   "parameters": {},
   "start_time": "2024-09-25T07:57:11.402832",
   "version": "2.6.0"
  }
 },
 "nbformat": 4,
 "nbformat_minor": 5
}
